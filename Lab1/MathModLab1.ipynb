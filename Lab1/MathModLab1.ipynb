{
  "nbformat": 4,
  "nbformat_minor": 0,
  "metadata": {
    "colab": {
      "name": "MathModLab1",
      "provenance": [],
      "collapsed_sections": []
    },
    "kernelspec": {
      "name": "python3",
      "display_name": "Python 3"
    },
    "language_info": {
      "name": "python"
    }
  },
  "cells": [
    {
      "cell_type": "markdown",
      "metadata": {
        "id": "lmYzG-QDKreo"
      },
      "source": [
        "# Лабораторная работа по ММод № 1 Андреюк Д.С.\n",
        "Смоделируем двумерную случайную величину. Для этого необходимо иметь матрицу распределения. Сформируем её на основе программно сгенерированных выборок. Пусть (X, Y) -- двумерная случайная величина, которую мы будем моделировать, при этом обе компоненты распределены по биномиальному закону с параметрами *n=3400*, *p=0.2* и *n=4200*, *p=0.7*. Тогда построим выборки x и y мощностью 100000 для обоих величин соответственно, на основе которых построим эмпирические ряды распределения. Поскольку мы считаем, что компоненты нашей двумерной СВ независимы, то P((X, Y) = (x, y)) = P(X = x) * P(Y = y). Это позволяет нам получить эмпирическую матрицу распределения (X, Y), которая и послужит входными данными для моделирования этой самой величины.\n"
      ]
    },
    {
      "cell_type": "code",
      "metadata": {
        "id": "zeVgN9iz-VAZ",
        "colab": {
          "base_uri": "https://localhost:8080/",
          "height": 286
        },
        "outputId": "be887c97-9740-42da-83f4-4c92f693b067"
      },
      "source": [
        "import random\n",
        "import numpy as np\n",
        "from scipy import stats\n",
        "import scipy as sp\n",
        "import matplotlib.pyplot as plt\n",
        "from math import log, sqrt, cos\n",
        "\n",
        "def get_counts_from_sample(sample, n):\n",
        "  counts = np.array([0.0] * (n))\n",
        "  for i in sample:\n",
        "    counts[int(i)] += 1\n",
        "  return counts\n",
        "  \n",
        "def gen_prob_matrix(n1, n2, p1, p2, N):\n",
        "    matrix = np.zeros((n1, n2))\n",
        "    x = get_counts_from_sample(np.random.binomial(n1-1, p1, N), n1)\n",
        "    x /= sum(x)\n",
        "    y = get_counts_from_sample(np.random.binomial(n2-1, p2, N), n2)\n",
        "    y /= sum(y)\n",
        "    for i in range(n):\n",
        "      for j in range(m):\n",
        "        matrix[i][j] = x[i] * y[j]\n",
        "    return matrix\n",
        "\n",
        "def gen_prob_matrix_spon(n1, n2):\n",
        "    matrix = np.zeros((n1, n2))\n",
        "    for i in range(n):\n",
        "      for j in range(m):\n",
        "        matrix[i][j] = cos(log(np.random.uniform(0, 1))) ** 2\n",
        "    return matrix / sum(sum(martix))\n",
        "\n",
        "\n",
        "n, m = 3400, 4100\n",
        "P = gen_prob_matrix(n, m, 0.2, 0.7, 100000)\n",
        "\n",
        "q = np.array([sum(P[i]) for i in range(n)])\n",
        "q = q / sum(q)\n",
        "l = [0.0] + [sum(q[0: (i + 1)]) for i in range(n)]\n",
        "r = np.array([sum(P[:, i]) for i in range(m)])\n",
        "r = r / sum(r)\n",
        "s = [0.0] + [sum(r[0: (i + 1)]) for i in range(m)]\n",
        "\n",
        "N = 1000\n",
        "sample = np.array([(0.0, 0.0)] * N)\n",
        "for _ in range(N):\n",
        "    x = 1 - np.random.uniform(0, 1)\n",
        "    y = 1 - np.random.uniform(0, 1)\n",
        "    for i in range(n):\n",
        "        if l[i] < x <= l[i + 1]:\n",
        "            for j in range(m):\n",
        "                if s[j] < y <= s[j + 1]:\n",
        "                    sample[_] = (i + 1, j + 1)\n",
        "                    break\n",
        "            break\n",
        "\n",
        "X_sample = np.array([sample[i][0] for i in range(N)])\n",
        "Y_sample = np.array([sample[i][1] for i in range(N)])\n",
        "\n",
        "\n",
        "plt.imshow(P, cmap='hot', interpolation='nearest')\n",
        "plt.show()\n",
        "\n",
        "print(f'Total sum of probability matrix elements equals {sum(sum(P))}')"
      ],
      "execution_count": null,
      "outputs": [
        {
          "output_type": "display_data",
          "data": {
            "image/png": "[encoded data removed]",
            "text/plain": [
              "<Figure size 432x288 with 1 Axes>"
            ]
          },
          "metadata": {
            "needs_background": "light"
          }
        },
        {
          "output_type": "stream",
          "name": "stdout",
          "text": [
            "Total sum of probability matrix elements equals 0.9999999999999996\n"
          ]
        }
      ]
    },
    {
      "cell_type": "markdown",
      "metadata": {
        "id": "K90NbXBQQIvx"
      },
      "source": [
        "Как можно заметить, сумма всех вероятностей равна единицей с поправкой на специфику работы NumPy, так что матрица корректа. Далее мы сгенерировали выборку изучаемой двумерной величины объёмом 1000, после чего для дальнейшего изучения отделили её компоненты. "
      ]
    },
    {
      "cell_type": "code",
      "metadata": {
        "colab": {
          "base_uri": "https://localhost:8080/",
          "height": 269
        },
        "id": "Ro9nmS5ArJGE",
        "outputId": "2ee4a39b-8abc-4cf3-a438-9388a6770a31"
      },
      "source": [
        "def gen_prob_matrix(sample1, sample2, n, m, N):\n",
        "    matrix = np.zeros((n, m))\n",
        "    for i in range(len(sample1)):\n",
        "      for j in range(len(sample2)):\n",
        "        matrix[int(sample1[i])][int(sample2[j])] += 1\n",
        "    return matrix / sum(sum(matrix))\n",
        "\n",
        "P_emp = gen_prob_matrix(X_sample, Y_sample, n, m, N)\n",
        "plt.imshow(P_emp, cmap='hot', interpolation='nearest')\n",
        "plt.show()"
      ],
      "execution_count": null,
      "outputs": [
        {
          "output_type": "display_data",
          "data": {
            "image/png": "[encoded data removed]",
            "text/plain": [
              "<Figure size 432x288 with 1 Axes>"
            ]
          },
          "metadata": {
            "needs_background": "light"
          }
        }
      ]
    },
    {
      "cell_type": "markdown",
      "metadata": {
        "id": "vHpSfMthyaZp"
      },
      "source": [
        "Так выглядит тепловая карта эмпирической матрицы распределения нашей случайной величины."
      ]
    },
    {
      "cell_type": "code",
      "metadata": {
        "colab": {
          "base_uri": "https://localhost:8080/",
          "height": 545
        },
        "id": "fFV6RKSOS91Z",
        "outputId": "26892517-6af9-49b7-c83d-98abe6db2c46"
      },
      "source": [
        "def construct_interval_equal_histogram(sample, n):\n",
        "    if n <= 100:\n",
        "        M = int(sqrt(n))\n",
        "    else:\n",
        "        M = int(1 + log(n, 2))\n",
        "    var_series = np.sort(sample)\n",
        "    h = (var_series[n - 1] - var_series[0]) / M\n",
        "    A = np.zeros(M)\n",
        "    B = np.zeros(M)\n",
        "    m = np.zeros(M)\n",
        "    v = np.zeros(M)\n",
        "    for i in range(M):\n",
        "        A[i] = var_series[0] + i * h\n",
        "        B[i] = var_series[0] + (i + 1) * h\n",
        "        m[i] += np.count_nonzero((var_series > var_series[0] + i * h) * (var_series < var_series[0] + (i + 1) * h))\n",
        "        m[i] += 0.25 * np.count_nonzero((var_series == var_series[0] + i * h))\n",
        "    v = np.array(m)\n",
        "    m = m / (n * h)\n",
        "    vert_lines = np.zeros(len(A) + 1)\n",
        "    vert_lines[0] = m[0]\n",
        "    vert_lines[-1] = m[-1]\n",
        "    for i in range(1, len(A)):\n",
        "        vert_lines[i] = max(m[i - 1], m[i])\n",
        "    plt.hlines(m, A, B)\n",
        "    plt.vlines(np.append(A[0], B), np.zeros(len(A) + 1), vert_lines)\n",
        "    return (A, B, v, M)\n",
        "\n",
        "construct_interval_equal_histogram(X_sample, N)\n",
        "plt.title('X')\n",
        "plt.show()\n",
        "\n",
        "plt.title('Y')\n",
        "construct_interval_equal_histogram(Y_sample, N)\n",
        "plt.show()"
      ],
      "execution_count": null,
      "outputs": [
        {
          "output_type": "display_data",
          "data": {
            "image/png": "[encoded data removed]",
            "text/plain": [
              "<Figure size 432x288 with 1 Axes>"
            ]
          },
          "metadata": {
            "needs_background": "light"
          }
        },
        {
          "output_type": "display_data",
          "data": {
            "image/png": "[encoded data removed]",
            "text/plain": [
              "<Figure size 432x288 with 1 Axes>"
            ]
          },
          "metadata": {
            "needs_background": "light"
          }
        }
      ]
    },
    {
      "cell_type": "markdown",
      "metadata": {
        "id": "eblVZrjwQ-6q"
      },
      "source": [
        "Построены равноинтервальные гистограммы."
      ]
    },
    {
      "cell_type": "code",
      "metadata": {
        "colab": {
          "base_uri": "https://localhost:8080/",
          "height": 545
        },
        "id": "tJg7bGADldwT",
        "outputId": "e1404749-8104-4b25-ef53-024382e9ff48"
      },
      "source": [
        "def calculate_probability_equal_histogram(sample, n):\n",
        "    if n <= 100:\n",
        "        M = int(sqrt(n))\n",
        "    else:\n",
        "        M = int(1 + log(n, 2))\n",
        "    sample = np.sort(sample)\n",
        "    A = np.zeros(M)\n",
        "    B = np.zeros(M)\n",
        "    m = np.ones(M) * (n // M)\n",
        "    v = np.array(m)\n",
        "    A[0] = sample[0]\n",
        "    B[-1] = sample[-1]\n",
        "    for i in range(1, M):\n",
        "        A[i] = (sample[(n // M) * i] + sample[(n // M) * i + 1]) / 2.0\n",
        "        B[i - 1] = A[i]\n",
        "    m = np.array([m[i] / (n * (B[i] - A[i])) for i in range(M)])\n",
        "    return (A, B, v, m, M)\n",
        "\n",
        "def construct_probability_equal_histogram(histo_tuple):\n",
        "    (A, B, v, m, M) = histo_tuple\n",
        "    vert_lines = np.zeros(len(A) + 1)\n",
        "    vert_lines[0] = m[0]\n",
        "    vert_lines[-1] = m[-1]\n",
        "    for i in range(1, len(A)):\n",
        "        vert_lines[i] = max(m[i - 1], m[i])\n",
        "    plt.hlines(m, A, B)\n",
        "    plt.vlines(np.append(A[0], B), np.zeros(len(A) + 1), vert_lines)\n",
        "\n",
        "construct_probability_equal_histogram(calculate_probability_equal_histogram(X_sample, N))\n",
        "plt.title('X')\n",
        "plt.show()\n",
        "\n",
        "construct_probability_equal_histogram(calculate_probability_equal_histogram(Y_sample, N))\n",
        "plt.title('Y')\n",
        "plt.show()"
      ],
      "execution_count": null,
      "outputs": [
        {
          "output_type": "display_data",
          "data": {
            "image/png": "[encoded data removed]",
            "text/plain": [
              "<Figure size 432x288 with 1 Axes>"
            ]
          },
          "metadata": {
            "needs_background": "light"
          }
        },
        {
          "output_type": "display_data",
          "data": {
            "image/png": "[encoded data removed]",
            "text/plain": [
              "<Figure size 432x288 with 1 Axes>"
            ]
          },
          "metadata": {
            "needs_background": "light"
          }
        }
      ]
    },
    {
      "cell_type": "markdown",
      "metadata": {
        "id": "IMtdg_5MSJ0p"
      },
      "source": [
        "Построены равновероятностные гистограммы."
      ]
    },
    {
      "cell_type": "code",
      "metadata": {
        "id": "wMvWGaJWb_t9",
        "colab": {
          "base_uri": "https://localhost:8080/"
        },
        "outputId": "2908ba2e-4f72-4f0f-9eee-4bf671ded130"
      },
      "source": [
        "# for natural numbers\n",
        "def get_interval_prob(a, b, p):\n",
        "    result = 0.0\n",
        "    for i in range(len(p)):\n",
        "      if a <= i + 1 < b:\n",
        "        result += p[i]\n",
        "    return result\n",
        "\n",
        "def Pearson_criteria(probs, sample, n):\n",
        "    (A, B, v, m, M) = calculate_probability_equal_histogram(sample, n)\n",
        "    chi = 0\n",
        "    for i in range(M):\n",
        "        p_i = get_interval_prob(A[i], B[i] + 1, probs)\n",
        "        chi += ((v[i] - n * p_i) ** 2) / p_i\n",
        "    chi /= n\n",
        "    k = M - 1\n",
        "    return (chi, k)\n",
        "\n",
        "print('Pearson criteria for X')\n",
        "print(Pearson_criteria([sum(P[i]) for i in range(n)], X_sample, N))\n",
        "print()\n",
        "print('Pearson criteria for Y')\n",
        "print(Pearson_criteria([sum(P[:, i]) for i in range(m)], Y_sample, N))"
      ],
      "execution_count": null,
      "outputs": [
        {
          "output_type": "stream",
          "name": "stdout",
          "text": [
            "Pearson criteria for X\n",
            "(16.57948148828928, 9)\n",
            "\n",
            "Pearson criteria for Y\n",
            "(16.801736791597666, 9)\n"
          ]
        }
      ]
    },
    {
      "cell_type": "markdown",
      "metadata": {
        "id": "aCsi0wyWSzhp"
      },
      "source": [
        "Критическое значение критерия хи-квадрат для числа степеней свободы *k=9* при уровне значимости *alpha=0.01* равняется *chi=21.7*. Для обоих компонент изучаемой двумерной величины полученное значение меньше табличного, то есть мы не имеем оснований для опровержения нулевой гипотезы о биномиальном распределении компонент исследуемой двумерной величины с параметрами, указанными выше."
      ]
    },
    {
      "cell_type": "code",
      "metadata": {
        "colab": {
          "base_uri": "https://localhost:8080/"
        },
        "id": "OlqFfbNaWT1I",
        "outputId": "5107f4a9-f823-405d-ffa1-bb0b65857818"
      },
      "source": [
        "def point_estimate_mean(sample):\n",
        "    return sum(sample) / len(sample)\n",
        "def point_estimate_variance(sample):\n",
        "    mean = point_estimate_mean(sample)\n",
        "    result = 0.0\n",
        "    for element in sample:\n",
        "        result += (element - mean) ** 2\n",
        "    return result / (len(sample) - 1)\n",
        "def confidence_interval_mean(sample, significance_level):\n",
        "    n = len(sample)\n",
        "    standart_deviation = sqrt(point_estimate_variance(sample))\n",
        "    u_coefficient = stats.norm.ppf(1 - significance_level / 2)\n",
        "    epsilon = standart_deviation * u_coefficient / sqrt(n)\n",
        "    return (-epsilon, epsilon)\n",
        "\n",
        "def confidence_interval_variance(sample, significance_level):\n",
        "    left_chi_coefficient = stats.chi2.ppf(1 - significance_level / 2, n - 1)\n",
        "    right_chi_coefficient = stats.chi2.ppf(significance_level / 2, n - 1)\n",
        "    est_variance = point_estimate_variance(sample)\n",
        "    standart_deviation = sqrt(est_variance)\n",
        "    epsilon = (n - 1) * est_variance\n",
        "    return (epsilon / left_chi_coefficient, epsilon / right_chi_coefficient)\n",
        "\n",
        "print('Для точечных оценок матожидания используем выборочное среднее:')\n",
        "M_X = point_estimate_mean(X_sample)\n",
        "print(f'M[X]={M_X}')\n",
        "M_Y = point_estimate_mean(Y_sample)\n",
        "print(f'M[Y]={M_Y}')\n",
        "\n",
        "print('Для точечных оценок дисперсии используем исправленную выборочную дисперсию:')\n",
        "D_X = point_estimate_variance(X_sample)\n",
        "print(f'D[X]={D_X}')\n",
        "D_Y = point_estimate_variance(Y_sample)\n",
        "print(f'D[Y]={D_Y}')\n",
        "\n",
        "print('Доверительный интервал для матожидания при уровне значимости 0.01:')\n",
        "M_X_tuple = confidence_interval_mean(X_sample, 0.01)\n",
        "print(f'[{M_X + M_X_tuple[0]}; {M_X + M_X_tuple[1]}]')\n",
        "M_Y_tuple = confidence_interval_mean(Y_sample, 0.01)\n",
        "print(f'[{M_Y + M_Y_tuple[0]}; {M_Y + M_Y_tuple[1]}]')\n",
        "\n",
        "print('Доверительный интервал для дисперсии при уровне значимости 0.01:')\n",
        "D_X_tuple = confidence_interval_variance(X_sample, 0.01)\n",
        "print(f'[{D_X + D_X_tuple[0]}; {D_X + D_X_tuple[1]}]')\n",
        "D_Y_tuple = confidence_interval_variance(Y_sample, 0.01)\n",
        "print(f'[{D_Y + D_Y_tuple[0]}; {D_Y + D_Y_tuple[1]}]')"
      ],
      "execution_count": null,
      "outputs": [
        {
          "output_type": "stream",
          "name": "stdout",
          "text": [
            "Для точечных оценок матожидания используем выборочное среднее:\n",
            "M[X]=681.147\n",
            "M[Y]=2870.45\n",
            "Для точечных оценок дисперсии используем исправленную выборочную дисперсию:\n",
            "D[X]=552.0634544544542\n",
            "D[Y]=868.2837837837836\n",
            "Доверительный интервал для матожидания при уровне значимости 0.01:\n",
            "[679.233133772306; 683.0608662276941]\n",
            "[2868.049797274031; 2872.8502027259688]\n",
            "Доверительный интервал для дисперсии при уровне значимости 0.01:\n",
            "[1071.1215651892007; 1140.226420872282]\n",
            "[1684.6568596610787; 1793.344774222698]\n"
          ]
        }
      ]
    },
    {
      "cell_type": "markdown",
      "metadata": {
        "id": "vSUOGomiWIDa"
      },
      "source": [
        "Теоретические характеристики первой компоненты:\n",
        "M[X] = 680,\n",
        "D[X] = 544\n",
        "\n",
        "---\n",
        "\n",
        "Теоретические характеристики второй компоненты:\n",
        "M[X] = 2940,\n",
        "D[X] = 868"
      ]
    },
    {
      "cell_type": "code",
      "metadata": {
        "colab": {
          "base_uri": "https://localhost:8080/"
        },
        "id": "XpCg16z9X-AR",
        "outputId": "5739541c-08a4-4f54-b7a4-82aebb4a0802"
      },
      "source": [
        "def point_estimate_covariance(sample1, sample2, n):\n",
        "    mean1 = point_estimate_mean(sample1)\n",
        "    mean2 = point_estimate_mean(sample2)\n",
        "    cov = 0.0\n",
        "    for i in range(n):\n",
        "        cov += sample1[i] * sample2[i]\n",
        "    return cov / n - mean1 * mean2\n",
        "  \n",
        "print(f'Covariance for X<-->Y is {point_estimate_covariance(X_sample, Y_sample, N)}')"
      ],
      "execution_count": null,
      "outputs": [
        {
          "output_type": "stream",
          "name": "stdout",
          "text": [
            "Covariance for X<-->Y is 30.001850000116974\n"
          ]
        }
      ]
    },
    {
      "cell_type": "markdown",
      "metadata": {
        "id": "LVzSdtd3ZTuA"
      },
      "source": [
        "Теоретическое значение ковариации нулевое ввиду независимости величин. Вместе с тем эмпирическое пусть и не является таковым, но составляет около 4% от матожидания первой компоненты и 1% -- второй."
      ]
    }
  ]
}
